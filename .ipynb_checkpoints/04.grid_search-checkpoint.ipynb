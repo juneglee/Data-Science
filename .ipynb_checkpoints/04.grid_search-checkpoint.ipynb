{
 "cells": [
  {
   "cell_type": "markdown",
   "metadata": {},
   "source": [
    "# 그리드 서치\n",
    "- 그리드 서치 (grid search) 는 머신러닝 과정에서 관심 있는 매개 변수들을 대상으로 학습 가능하도록 만드는 방식이다 \n",
    "- 예를 들어, k-최근접 이웃 알고리즘을 사용한다고 가정하면, k-최근접 이웃 알고리즘에 사용할 수 있는 k 값에는 여러 후보가 존재하는데, 어던 하이퍼라미터 k가 가장 높은 성능을 보일지는 직접 학습하기 전에는 알수가 없다. 학습 시키기 전에 관심이 잇는 k의 후보군을 정해 놓고 학습 시킨 후 모형 선능을 비교한 후 최적의 k을 선정하수 있다. "
   ]
  },
  {
   "cell_type": "code",
   "execution_count": 1,
   "metadata": {},
   "outputs": [],
   "source": [
    "from sklearn import datasets\n",
    "from sklearn.preprocessing import StandardScaler\n",
    "from sklearn.neighbors import KNeighborsClassifier\n",
    "from sklearn.model_selection import train_test_split\n",
    "\n",
    "from sklearn.metrics import accuracy_score\n",
    "from sklearn.metrics import confusion_matrix\n",
    "from sklearn.metrics import classification_report"
   ]
  },
  {
   "cell_type": "code",
   "execution_count": 2,
   "metadata": {
    "scrolled": true
   },
   "outputs": [],
   "source": [
    "# 꽃 데이터 불러오기\n",
    "raw_iris = datasets.load_iris()\n",
    "\n",
    "# 피쳐 / 타겟\n",
    "X = raw_iris.data\n",
    "y = raw_iris.target\n",
    "\n",
    "# 트레이닝 / 테스트 데이터 분할\n",
    "X_tn, X_te, y_tn, y_te=train_test_split(X,y,random_state=0)\n",
    "\n",
    "# 표준화 스케일\n",
    "std_scale = StandardScaler()\n",
    "std_scale.fit(X_tn)\n",
    "X_tn_std = std_scale.transform(X_tn)\n",
    "X_te_std  = std_scale.transform(X_te)"
   ]
  },
  {
   "cell_type": "code",
   "execution_count": 3,
   "metadata": {},
   "outputs": [
    {
     "name": "stdout",
     "output_type": "stream",
     "text": [
      "{'k': 3}\n",
      "0.9736842105263158\n"
     ]
    }
   ],
   "source": [
    "# 가장 높은 정확도를 나타내는 best_accuracy 라는 변수를 초기화 \n",
    "best_accuracy = 0\n",
    "\n",
    "for k in [1,2,3,4,5,6,7,8,9,10]:\n",
    "    clf_knn =  KNeighborsClassifier(n_neighbors=k) # 해당 k 값을 적용한 k-최근접 이웃 알고리즘 수행\n",
    "    clf_knn.fit(X_tn_std, y_tn)\n",
    "    knn_pred = clf_knn.predict(X_te_std)\n",
    "    accuracy = accuracy_score(y_te, knn_pred)\n",
    "    if accuracy > best_accuracy:\n",
    "        best_accuracy = accuracy\n",
    "        final_k = {'k': k}\n",
    "    \n",
    "print(final_k)\n",
    "print(accuracy)"
   ]
  },
  {
   "cell_type": "code",
   "execution_count": null,
   "metadata": {},
   "outputs": [],
   "source": []
  }
 ],
 "metadata": {
  "kernelspec": {
   "display_name": "Python 3",
   "language": "python",
   "name": "python3"
  },
  "language_info": {
   "codemirror_mode": {
    "name": "ipython",
    "version": 3
   },
   "file_extension": ".py",
   "mimetype": "text/x-python",
   "name": "python",
   "nbconvert_exporter": "python",
   "pygments_lexer": "ipython3",
   "version": "3.7.7"
  }
 },
 "nbformat": 4,
 "nbformat_minor": 4
}
